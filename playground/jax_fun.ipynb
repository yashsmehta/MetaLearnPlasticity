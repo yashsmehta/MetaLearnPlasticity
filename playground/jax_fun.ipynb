{
 "cells": [
  {
   "cell_type": "code",
   "execution_count": 53,
   "id": "5811c53d",
   "metadata": {},
   "outputs": [],
   "source": [
    "import jax\n",
    "import jax.numpy as jnp\n",
    "from jax.tree_util import Partial\n",
    "import numpy as np\n",
    "import plastix as px"
   ]
  },
  {
   "cell_type": "code",
   "execution_count": 24,
   "id": "74eda652-8cb1-4815-ac9c-89f8422bd235",
   "metadata": {},
   "outputs": [],
   "source": [
    "def func(a,b):\n",
    "    b = b.at[0].set(a[0])\n",
    "    return jnp.sum(b**2)"
   ]
  },
  {
   "cell_type": "code",
   "execution_count": 50,
   "id": "73da5886-89ac-4b38-971b-bee481a24038",
   "metadata": {},
   "outputs": [],
   "source": [
    "half = Partial((jnp.divide), 2)"
   ]
  },
  {
   "cell_type": "code",
   "execution_count": 51,
   "id": "7a695c38-062f-49fc-a16e-b1b0d7c59c66",
   "metadata": {},
   "outputs": [
    {
     "data": {
      "text/plain": [
       "DeviceArray(0.6666667, dtype=float32)"
      ]
     },
     "execution_count": 51,
     "metadata": {},
     "output_type": "execute_result"
    }
   ],
   "source": [
    "half(3)"
   ]
  },
  {
   "cell_type": "code",
   "execution_count": 34,
   "id": "720b78ce-0519-4d45-bff1-e6de54578752",
   "metadata": {},
   "outputs": [],
   "source": [
    "add_one = jax.jit(Partial(jnp.add, 1))"
   ]
  },
  {
   "cell_type": "code",
   "execution_count": 25,
   "id": "1a7fc3c3-1073-4891-81ef-1da76fe2f17e",
   "metadata": {},
   "outputs": [],
   "source": [
    "a = jnp.zeros((3,))\n",
    "b = jnp.ones((3,))"
   ]
  },
  {
   "cell_type": "code",
   "execution_count": 26,
   "id": "33e2524e-b973-4b0e-83b9-80d28d678af1",
   "metadata": {},
   "outputs": [
    {
     "data": {
      "text/plain": [
       "DeviceArray([0., 2., 2.], dtype=float32)"
      ]
     },
     "execution_count": 26,
     "metadata": {},
     "output_type": "execute_result"
    }
   ],
   "source": [
    "jax.grad(func, argnums=1)(a,b)"
   ]
  },
  {
   "cell_type": "code",
   "execution_count": 11,
   "id": "be9b9d85-0224-4506-9667-ad7ad5efc6fb",
   "metadata": {},
   "outputs": [
    {
     "data": {
      "text/plain": [
       "[(0, 0), (1, 0), (0, 1)]"
      ]
     },
     "execution_count": 11,
     "metadata": {},
     "output_type": "execute_result"
    }
   ],
   "source": [
    "edges = [(0,0), (1,0), (0, 1)]\n",
    "sorted(edges, key = lambda x: x[1])"
   ]
  },
  {
   "cell_type": "code",
   "execution_count": 21,
   "id": "6dbaebf2-a6c8-4fdc-a95c-67ece951ca99",
   "metadata": {},
   "outputs": [
    {
     "data": {
      "text/plain": [
       "500"
      ]
     },
     "execution_count": 21,
     "metadata": {},
     "output_type": "execute_result"
    }
   ],
   "source": [
    "a = 499\n",
    "a+1%500"
   ]
  },
  {
   "cell_type": "code",
   "execution_count": 43,
   "id": "68e7c5e8-4af7-4b85-beee-96e3ef15c9ac",
   "metadata": {},
   "outputs": [
    {
     "data": {
      "text/plain": [
       "DeviceArray([[ 0.18784384, -1.2833426 ,  0.6494181 ],\n",
       "             [ 1.2490593 ,  0.24447003, -0.11744965]], dtype=float32)"
      ]
     },
     "execution_count": 43,
     "metadata": {},
     "output_type": "execute_result"
    }
   ],
   "source": [
    "key = jax.random.PRNGKey(0)\n",
    "jax.random.normal(key, (2,3))"
   ]
  },
  {
   "cell_type": "code",
   "execution_count": 46,
   "id": "197c3c87-1dc6-48b8-bf0b-1f0b9a76cbdc",
   "metadata": {},
   "outputs": [
    {
     "name": "stdout",
     "output_type": "stream",
     "text": [
      "(1,)\n",
      "1.0\n"
     ]
    }
   ],
   "source": [
    "a = jnp.ones((1))\n",
    "print(a.shape)\n",
    "a = jnp.squeeze(a)\n",
    "print(a)"
   ]
  },
  {
   "cell_type": "code",
   "execution_count": 30,
   "id": "a6155396-9953-4f3f-b143-b19e410760fc",
   "metadata": {},
   "outputs": [
    {
     "data": {
      "text/plain": [
       "[0, 1, 2, 3]"
      ]
     },
     "execution_count": 30,
     "metadata": {},
     "output_type": "execute_result"
    }
   ],
   "source": [
    "aa = [1, 2, 3]\n",
    "aa.insert(0, 0)\n",
    "aa"
   ]
  },
  {
   "cell_type": "code",
   "execution_count": 19,
   "id": "34ac4afb-117e-46d5-90cf-d21150be7770",
   "metadata": {},
   "outputs": [
    {
     "data": {
      "text/plain": [
       "(3, 2)"
      ]
     },
     "execution_count": 19,
     "metadata": {},
     "output_type": "execute_result"
    }
   ],
   "source": [
    "w.shape"
   ]
  },
  {
   "cell_type": "code",
   "execution_count": 24,
   "id": "83a49ccd-496c-4215-8de9-a420dba89075",
   "metadata": {},
   "outputs": [
    {
     "data": {
      "text/plain": [
       "DeviceArray([[[  1,   5,  25],\n",
       "              [  3,  15,  75],\n",
       "              [  9,  45, 225]],\n",
       "\n",
       "             [[  2,  10,  50],\n",
       "              [  6,  30, 150],\n",
       "              [ 18,  90, 450]],\n",
       "\n",
       "             [[  4,  20, 100],\n",
       "              [ 12,  60, 300],\n",
       "              [ 36, 180, 900]]], dtype=int32)"
      ]
     },
     "execution_count": 24,
     "metadata": {},
     "output_type": "execute_result"
    }
   ],
   "source": [
    "a = 2; b =3; c = 5\n",
    "result = jnp.outer(jnp.outer(jnp.array([a**0, a**1, a**2]), jnp.array([b**0, b**1, b**2])), jnp.array([c**0, c**1, c**2]))\n",
    "result = jnp.reshape(result, (3,3,3))\n",
    "result"
   ]
  },
  {
   "cell_type": "code",
   "execution_count": 37,
   "id": "605afbfa-7c57-4e2b-99e6-ef35a0191d7b",
   "metadata": {},
   "outputs": [
    {
     "data": {
      "text/plain": [
       "array([0., 1., 1., 1., 1.])"
      ]
     },
     "execution_count": 37,
     "metadata": {},
     "output_type": "execute_result"
    }
   ],
   "source": [
    "np.round(np.random.rand(5))"
   ]
  },
  {
   "cell_type": "code",
   "execution_count": 25,
   "id": "9b6a80d7-a27d-4a9d-b36a-909943dff53a",
   "metadata": {},
   "outputs": [
    {
     "data": {
      "text/plain": [
       "(3, 3, 3)"
      ]
     },
     "execution_count": 25,
     "metadata": {},
     "output_type": "execute_result"
    }
   ],
   "source": [
    "result.shape"
   ]
  },
  {
   "cell_type": "code",
   "execution_count": 26,
   "id": "627cf683-cadf-4250-8814-185081dc9602",
   "metadata": {},
   "outputs": [],
   "source": [
    "A = jnp.ones((3,3,3))"
   ]
  },
  {
   "cell_type": "code",
   "execution_count": 33,
   "id": "6c87efb5-2757-4f62-9431-ab5ce31236ad",
   "metadata": {},
   "outputs": [
    {
     "data": {
      "text/plain": [
       "DeviceArray(3., dtype=float32)"
      ]
     },
     "execution_count": 33,
     "metadata": {},
     "output_type": "execute_result"
    }
   ],
   "source": [
    "# a^i, b^j, c^k\n",
    "jnp.multiply(result, A)[0][1][0]"
   ]
  },
  {
   "cell_type": "code",
   "execution_count": 28,
   "id": "f09c8561-c06d-45da-b611-9e75db22961b",
   "metadata": {},
   "outputs": [
    {
     "name": "stdout",
     "output_type": "stream",
     "text": [
      "0.0 0.0 0\n",
      "0.1111111111111111 0.3333333333333333 1\n",
      "0.2222222222222222 0.6666666666666666 2\n",
      "0.3333333333333333 1.0 0\n",
      "0.4444444444444444 1.3333333333333333 1\n",
      "0.5555555555555556 1.6666666666666667 2\n",
      "0.6666666666666666 2.0 0\n",
      "0.7777777777777778 2.3333333333333335 1\n",
      "0.8888888888888888 2.6666666666666665 2\n",
      "1.0 0.0 0\n",
      "1.1111111111111112 0.3333333333333335 1\n",
      "1.2222222222222223 0.6666666666666665 2\n",
      "1.3333333333333333 1.0 0\n",
      "1.4444444444444444 1.333333333333333 1\n",
      "1.5555555555555556 1.666666666666667 2\n",
      "1.6666666666666667 2.0 0\n",
      "1.7777777777777777 2.333333333333333 1\n",
      "1.8888888888888888 2.666666666666667 2\n",
      "2.0 0.0 0\n",
      "2.111111111111111 0.33333333333333304 1\n",
      "2.2222222222222223 0.666666666666667 2\n",
      "2.3333333333333335 1.0 0\n",
      "2.4444444444444446 1.333333333333333 1\n",
      "2.5555555555555554 1.666666666666667 2\n",
      "2.6666666666666665 2.0 0\n",
      "2.7777777777777777 2.333333333333334 1\n",
      "2.888888888888889 2.666666666666666 2\n"
     ]
    }
   ],
   "source": [
    "n=26\n",
    "for n in range(27):\n",
    "    print((n/9)%3, (n/3)%3, n%3)"
   ]
  },
  {
   "cell_type": "code",
   "execution_count": 29,
   "id": "8ca04d9a-c0b8-458d-bbd5-94b6a8aaa127",
   "metadata": {},
   "outputs": [
    {
     "data": {
      "text/plain": [
       "0"
      ]
     },
     "execution_count": 29,
     "metadata": {},
     "output_type": "execute_result"
    }
   ],
   "source": [
    "int(0.7)"
   ]
  },
  {
   "cell_type": "code",
   "execution_count": 3,
   "id": "e5edbc26-c38c-4f4b-b687-25c07c813371",
   "metadata": {},
   "outputs": [],
   "source": [
    "def loss(y, pred):\n",
    "    return (y-pred)**2"
   ]
  },
  {
   "cell_type": "code",
   "execution_count": 11,
   "id": "6b8e363f-d081-44ed-82d7-5d9d1ebe7863",
   "metadata": {},
   "outputs": [
    {
     "data": {
      "text/plain": [
       "DeviceArray(0.20000005, dtype=float32, weak_type=True)"
      ]
     },
     "execution_count": 11,
     "metadata": {},
     "output_type": "execute_result"
    }
   ],
   "source": [
    "grad_loss = jax.grad(loss)\n",
    "grad_loss(1.0, 0.9)"
   ]
  },
  {
   "cell_type": "code",
   "execution_count": 13,
   "id": "1ec87dd4-77e8-4c30-922d-9263df620e2a",
   "metadata": {},
   "outputs": [
    {
     "data": {
      "text/plain": [
       "1"
      ]
     },
     "execution_count": 13,
     "metadata": {},
     "output_type": "execute_result"
    }
   ],
   "source": [
    "round(0.7)"
   ]
  },
  {
   "cell_type": "code",
   "execution_count": 36,
   "id": "31000807",
   "metadata": {},
   "outputs": [],
   "source": [
    "w = jnp.ones((2,2))\n",
    "key = jax.random.PRNGKey(0)\n",
    "x = jax.random.normal(key, (2,))"
   ]
  },
  {
   "cell_type": "code",
   "execution_count": 37,
   "id": "ccd8a78b",
   "metadata": {},
   "outputs": [
    {
     "name": "stdout",
     "output_type": "stream",
     "text": [
      "w:  [[1. 1.]\n",
      " [1. 1.]]\n",
      "x:  [-0.78476596  0.85644484]\n"
     ]
    },
    {
     "data": {
      "text/plain": [
       "DeviceArray([0.07167888, 0.07167888], dtype=float32)"
      ]
     },
     "execution_count": 37,
     "metadata": {},
     "output_type": "execute_result"
    }
   ],
   "source": [
    "print('w: ', w)\n",
    "print('x: ', x)\n",
    "w @ x"
   ]
  },
  {
   "cell_type": "code",
   "execution_count": 32,
   "id": "8ad6aca8",
   "metadata": {},
   "outputs": [
    {
     "data": {
      "text/plain": [
       "DeviceArray([-0.78476596,  0.85644484], dtype=float32)"
      ]
     },
     "execution_count": 32,
     "metadata": {},
     "output_type": "execute_result"
    }
   ],
   "source": [
    "jnp.multiply(x, y)"
   ]
  },
  {
   "cell_type": "code",
   "execution_count": 38,
   "id": "2faa5429",
   "metadata": {},
   "outputs": [
    {
     "data": {
      "text/plain": [
       "DeviceArray([1., 1., 1., 1.], dtype=float32)"
      ]
     },
     "execution_count": 38,
     "metadata": {},
     "output_type": "execute_result"
    }
   ],
   "source": [
    "w.reshape(-1)"
   ]
  },
  {
   "cell_type": "code",
   "execution_count": 48,
   "id": "7ce62ee1",
   "metadata": {},
   "outputs": [],
   "source": [
    "class Banana:\n",
    "    def __init__(self):\n",
    "        self.sweet = 0.5\n",
    "        self.ripe = 1\n",
    "        self.country = 'India'\n",
    "\n",
    "    @classmethod\n",
    "    def fertilizer(self):\n",
    "        if(self.sweet == 0.5):\n",
    "            print('AE34')\n",
    "    \n",
    "    def func1(self):\n",
    "        pass\n",
    "    \n",
    "    def func2():\n",
    "        pass\n",
    "    "
   ]
  },
  {
   "cell_type": "code",
   "execution_count": 53,
   "id": "951be267",
   "metadata": {},
   "outputs": [
    {
     "ename": "AttributeError",
     "evalue": "type object 'Banana' has no attribute 'sweet'",
     "output_type": "error",
     "traceback": [
      "\u001b[0;31m---------------------------------------------------------------------------\u001b[0m",
      "\u001b[0;31mAttributeError\u001b[0m                            Traceback (most recent call last)",
      "Input \u001b[0;32mIn [53]\u001b[0m, in \u001b[0;36m<cell line: 2>\u001b[0;34m()\u001b[0m\n\u001b[1;32m      1\u001b[0m b1 \u001b[38;5;241m=\u001b[39m Banana()\n\u001b[0;32m----> 2\u001b[0m \u001b[43mBanana\u001b[49m\u001b[38;5;241;43m.\u001b[39;49m\u001b[43mfertilizer\u001b[49m\u001b[43m(\u001b[49m\u001b[43m)\u001b[49m\n",
      "Input \u001b[0;32mIn [48]\u001b[0m, in \u001b[0;36mBanana.fertilizer\u001b[0;34m(self)\u001b[0m\n\u001b[1;32m      7\u001b[0m \u001b[38;5;129m@classmethod\u001b[39m\n\u001b[1;32m      8\u001b[0m \u001b[38;5;28;01mdef\u001b[39;00m \u001b[38;5;21mfertilizer\u001b[39m(\u001b[38;5;28mself\u001b[39m):\n\u001b[0;32m----> 9\u001b[0m     \u001b[38;5;28;01mif\u001b[39;00m(\u001b[38;5;28;43mself\u001b[39;49m\u001b[38;5;241;43m.\u001b[39;49m\u001b[43msweet\u001b[49m \u001b[38;5;241m==\u001b[39m \u001b[38;5;241m0.5\u001b[39m):\n\u001b[1;32m     10\u001b[0m         \u001b[38;5;28mprint\u001b[39m(\u001b[38;5;124m'\u001b[39m\u001b[38;5;124mAE34\u001b[39m\u001b[38;5;124m'\u001b[39m)\n",
      "\u001b[0;31mAttributeError\u001b[0m: type object 'Banana' has no attribute 'sweet'"
     ]
    }
   ],
   "source": [
    "b1 = Banana()\n",
    "Banana.fertilizer()"
   ]
  },
  {
   "cell_type": "code",
   "execution_count": 25,
   "id": "1ccdc90d",
   "metadata": {},
   "outputs": [
    {
     "ename": "NameError",
     "evalue": "name 'loss' is not defined",
     "output_type": "error",
     "traceback": [
      "\u001b[0;31m---------------------------------------------------------------------------\u001b[0m",
      "\u001b[0;31mNameError\u001b[0m                                 Traceback (most recent call last)",
      "Input \u001b[0;32mIn [25]\u001b[0m, in \u001b[0;36m<cell line: 1>\u001b[0;34m()\u001b[0m\n\u001b[0;32m----> 1\u001b[0m jax\u001b[38;5;241m.\u001b[39mvmap(jax\u001b[38;5;241m.\u001b[39mgrad(\u001b[43mloss\u001b[49m), in_axes\u001b[38;5;241m=\u001b[39m(\u001b[38;5;28;01mNone\u001b[39;00m, \u001b[38;5;241m0\u001b[39m, \u001b[38;5;241m0\u001b[39m), out_axes\u001b[38;5;241m=\u001b[39m\u001b[38;5;241m0\u001b[39m)\n",
      "\u001b[0;31mNameError\u001b[0m: name 'loss' is not defined"
     ]
    }
   ],
   "source": [
    "\n",
    "jax.vmap(jax.grad(loss), in_axes=(None, 0, 0), out_axes=0)"
   ]
  },
  {
   "cell_type": "code",
   "execution_count": 15,
   "id": "6647ce99",
   "metadata": {},
   "outputs": [],
   "source": [
    "import abc\n",
    "\n",
    "class Kernel(abc.ABC):\n",
    "    @classmethod\n",
    "    def print_attributes(cls):\n",
    "        print(cls.__dict__.items())\n",
    "        \n",
    "        \n",
    "class EdgeKernel(Kernel):\n",
    "\n",
    "class FixedWeight(EdgeKernel)\n",
    "    \n",
    "e1 = EdgeKernel()\n",
    "e2 = EdgeKernel()"
   ]
  }
 ],
 "metadata": {
  "kernelspec": {
   "display_name": "plastix",
   "language": "python",
   "name": "plastix"
  },
  "language_info": {
   "codemirror_mode": {
    "name": "ipython",
    "version": 3
   },
   "file_extension": ".py",
   "mimetype": "text/x-python",
   "name": "python",
   "nbconvert_exporter": "python",
   "pygments_lexer": "ipython3",
   "version": "3.9.7"
  }
 },
 "nbformat": 4,
 "nbformat_minor": 5
}
