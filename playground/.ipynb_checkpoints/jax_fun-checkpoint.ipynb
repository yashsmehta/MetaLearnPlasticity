{
 "cells": [
  {
   "cell_type": "code",
   "execution_count": 54,
   "id": "5811c53d",
   "metadata": {},
   "outputs": [],
   "source": [
    "import jax\n",
    "import jax.numpy as jnp"
   ]
  },
  {
   "cell_type": "code",
   "execution_count": 55,
   "id": "3469a633",
   "metadata": {},
   "outputs": [
    {
     "name": "stdout",
     "output_type": "stream",
     "text": [
      "Fri Jul  1 09:14:46 2022       \n",
      "+-----------------------------------------------------------------------------+\n",
      "| NVIDIA-SMI 470.57.02    Driver Version: 470.57.02    CUDA Version: 11.4     |\n",
      "|-------------------------------+----------------------+----------------------+\n",
      "| GPU  Name        Persistence-M| Bus-Id        Disp.A | Volatile Uncorr. ECC |\n",
      "| Fan  Temp  Perf  Pwr:Usage/Cap|         Memory-Usage | GPU-Util  Compute M. |\n",
      "|                               |                      |               MIG M. |\n",
      "|===============================+======================+======================|\n",
      "|   0  NVIDIA A100-SXM...  Off  | 00000000:41:00.0 Off |                    0 |\n",
      "| N/A   27C    P0    69W / 500W |  73200MiB / 81251MiB |      0%   E. Process |\n",
      "|                               |                      |             Disabled |\n",
      "+-------------------------------+----------------------+----------------------+\n",
      "                                                                               \n",
      "+-----------------------------------------------------------------------------+\n",
      "| Processes:                                                                  |\n",
      "|  GPU   GI   CI        PID   Type   Process name                  GPU Memory |\n",
      "|        ID   ID                                                   Usage      |\n",
      "|=============================================================================|\n",
      "|    0   N/A  N/A    596995      C   ...3/envs/plastix/bin/python    73197MiB |\n",
      "+-----------------------------------------------------------------------------+\n"
     ]
    }
   ],
   "source": [
    "!nvidia-smi"
   ]
  },
  {
   "cell_type": "code",
   "execution_count": 36,
   "id": "31000807",
   "metadata": {},
   "outputs": [],
   "source": [
    "w = jnp.ones((2,2))\n",
    "key = jax.random.PRNGKey(0)\n",
    "x = jax.random.normal(key, (2,))"
   ]
  },
  {
   "cell_type": "code",
   "execution_count": 37,
   "id": "ccd8a78b",
   "metadata": {},
   "outputs": [
    {
     "name": "stdout",
     "output_type": "stream",
     "text": [
      "w:  [[1. 1.]\n",
      " [1. 1.]]\n",
      "x:  [-0.78476596  0.85644484]\n"
     ]
    },
    {
     "data": {
      "text/plain": [
       "DeviceArray([0.07167888, 0.07167888], dtype=float32)"
      ]
     },
     "execution_count": 37,
     "metadata": {},
     "output_type": "execute_result"
    }
   ],
   "source": [
    "print('w: ', w)\n",
    "print('x: ', x)\n",
    "w @ x"
   ]
  },
  {
   "cell_type": "code",
   "execution_count": 32,
   "id": "8ad6aca8",
   "metadata": {},
   "outputs": [
    {
     "data": {
      "text/plain": [
       "DeviceArray([-0.78476596,  0.85644484], dtype=float32)"
      ]
     },
     "execution_count": 32,
     "metadata": {},
     "output_type": "execute_result"
    }
   ],
   "source": [
    "jnp.multiply(x, y)"
   ]
  },
  {
   "cell_type": "code",
   "execution_count": 38,
   "id": "2faa5429",
   "metadata": {},
   "outputs": [
    {
     "data": {
      "text/plain": [
       "DeviceArray([1., 1., 1., 1.], dtype=float32)"
      ]
     },
     "execution_count": 38,
     "metadata": {},
     "output_type": "execute_result"
    }
   ],
   "source": [
    "w.reshape(-1)"
   ]
  },
  {
   "cell_type": "code",
   "execution_count": 48,
   "id": "7ce62ee1",
   "metadata": {},
   "outputs": [],
   "source": [
    "class Banana:\n",
    "    def __init__(self):\n",
    "        self.sweet = 0.5\n",
    "        self.ripe = 1\n",
    "        self.country = 'India'\n",
    "\n",
    "    @classmethod\n",
    "    def fertilizer(self):\n",
    "        if(self.sweet == 0.5):\n",
    "            print('AE34')\n",
    "    \n",
    "    def func1(self):\n",
    "        pass\n",
    "    \n",
    "    def func2():\n",
    "        pass\n",
    "    "
   ]
  },
  {
   "cell_type": "code",
   "execution_count": 53,
   "id": "951be267",
   "metadata": {},
   "outputs": [
    {
     "ename": "AttributeError",
     "evalue": "type object 'Banana' has no attribute 'sweet'",
     "output_type": "error",
     "traceback": [
      "\u001b[0;31m---------------------------------------------------------------------------\u001b[0m",
      "\u001b[0;31mAttributeError\u001b[0m                            Traceback (most recent call last)",
      "Input \u001b[0;32mIn [53]\u001b[0m, in \u001b[0;36m<cell line: 2>\u001b[0;34m()\u001b[0m\n\u001b[1;32m      1\u001b[0m b1 \u001b[38;5;241m=\u001b[39m Banana()\n\u001b[0;32m----> 2\u001b[0m \u001b[43mBanana\u001b[49m\u001b[38;5;241;43m.\u001b[39;49m\u001b[43mfertilizer\u001b[49m\u001b[43m(\u001b[49m\u001b[43m)\u001b[49m\n",
      "Input \u001b[0;32mIn [48]\u001b[0m, in \u001b[0;36mBanana.fertilizer\u001b[0;34m(self)\u001b[0m\n\u001b[1;32m      7\u001b[0m \u001b[38;5;129m@classmethod\u001b[39m\n\u001b[1;32m      8\u001b[0m \u001b[38;5;28;01mdef\u001b[39;00m \u001b[38;5;21mfertilizer\u001b[39m(\u001b[38;5;28mself\u001b[39m):\n\u001b[0;32m----> 9\u001b[0m     \u001b[38;5;28;01mif\u001b[39;00m(\u001b[38;5;28;43mself\u001b[39;49m\u001b[38;5;241;43m.\u001b[39;49m\u001b[43msweet\u001b[49m \u001b[38;5;241m==\u001b[39m \u001b[38;5;241m0.5\u001b[39m):\n\u001b[1;32m     10\u001b[0m         \u001b[38;5;28mprint\u001b[39m(\u001b[38;5;124m'\u001b[39m\u001b[38;5;124mAE34\u001b[39m\u001b[38;5;124m'\u001b[39m)\n",
      "\u001b[0;31mAttributeError\u001b[0m: type object 'Banana' has no attribute 'sweet'"
     ]
    }
   ],
   "source": [
    "b1 = Banana()\n",
    "Banana.fertilizer()"
   ]
  },
  {
   "cell_type": "code",
   "execution_count": 25,
   "id": "1ccdc90d",
   "metadata": {},
   "outputs": [
    {
     "ename": "NameError",
     "evalue": "name 'loss' is not defined",
     "output_type": "error",
     "traceback": [
      "\u001b[0;31m---------------------------------------------------------------------------\u001b[0m",
      "\u001b[0;31mNameError\u001b[0m                                 Traceback (most recent call last)",
      "Input \u001b[0;32mIn [25]\u001b[0m, in \u001b[0;36m<cell line: 1>\u001b[0;34m()\u001b[0m\n\u001b[0;32m----> 1\u001b[0m jax\u001b[38;5;241m.\u001b[39mvmap(jax\u001b[38;5;241m.\u001b[39mgrad(\u001b[43mloss\u001b[49m), in_axes\u001b[38;5;241m=\u001b[39m(\u001b[38;5;28;01mNone\u001b[39;00m, \u001b[38;5;241m0\u001b[39m, \u001b[38;5;241m0\u001b[39m), out_axes\u001b[38;5;241m=\u001b[39m\u001b[38;5;241m0\u001b[39m)\n",
      "\u001b[0;31mNameError\u001b[0m: name 'loss' is not defined"
     ]
    }
   ],
   "source": [
    "\n",
    "jax.vmap(jax.grad(loss), in_axes=(None, 0, 0), out_axes=0)"
   ]
  },
  {
   "cell_type": "code",
   "execution_count": 15,
   "id": "6647ce99",
   "metadata": {},
   "outputs": [],
   "source": [
    "import abc\n",
    "\n",
    "class Kernel(abc.ABC):\n",
    "    @classmethod\n",
    "    def print_attributes(cls):\n",
    "        print(cls.__dict__.items())\n",
    "        \n",
    "        \n",
    "class EdgeKernel(Kernel):\n",
    "\n",
    "class FixedWeight(EdgeKernel)\n",
    "    \n",
    "e1 = EdgeKernel()\n",
    "e2 = EdgeKernel()"
   ]
  }
 ],
 "metadata": {
  "kernelspec": {
   "display_name": "plastix",
   "language": "python",
   "name": "plastix"
  },
  "language_info": {
   "codemirror_mode": {
    "name": "ipython",
    "version": 3
   },
   "file_extension": ".py",
   "mimetype": "text/x-python",
   "name": "python",
   "nbconvert_exporter": "python",
   "pygments_lexer": "ipython3",
   "version": "3.9.7"
  }
 },
 "nbformat": 4,
 "nbformat_minor": 5
}
